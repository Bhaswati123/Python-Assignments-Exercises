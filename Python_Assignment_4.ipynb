{
  "nbformat": 4,
  "nbformat_minor": 0,
  "metadata": {
    "colab": {
      "name": "Python Assignment 4.ipynb",
      "provenance": [],
      "collapsed_sections": []
    },
    "kernelspec": {
      "name": "python3",
      "display_name": "Python 3"
    },
    "language_info": {
      "name": "python"
    }
  },
  "cells": [
    {
      "cell_type": "markdown",
      "metadata": {
        "id": "CGK3rEIB9e71"
      },
      "source": [
        "1.1 Write a Python Program(with class concepts) to find the area of the triangle using the below\n",
        "formula.\n",
        "area = (s*(s-a)*(s-b)*(s-c)) ** 0.5\n",
        "Function to take the length of the sides of triangle from user should be defined in the parent\n",
        "class and function to calculate the area should be defined in subclass."
      ]
    },
    {
      "cell_type": "code",
      "metadata": {
        "colab": {
          "base_uri": "https://localhost:8080/"
        },
        "id": "1NlXOK1n9Xzy",
        "outputId": "5fee46ed-2fd1-47bc-9ae6-b6ade79974f9"
      },
      "source": [
        "class shape:\n",
        "  def __init__(self,a,b,c):\n",
        "    self.a=float(a)\n",
        "    self.b=float(b)\n",
        "    self.c=float(c)\n",
        "a=int(input('a='))    \n",
        "b=int(input('b='))    \n",
        "c=int(input('c='))  \n",
        "\n",
        "class triangle(shape):\n",
        "  def __init__(self,a,b,c):\n",
        "    super().__init__(a,b,c)\n",
        "  def area(self):\n",
        "    s=(a+b+c)/2\n",
        "    return (s*(s-a)*(s-b)*(s-c))**0.5  \n",
        "\n",
        "t=triangle(a,b,c)\n",
        "print('The area of triangle {}'.format(t.area(5)))\n"
      ],
      "execution_count": 3,
      "outputs": [
        {
          "output_type": "stream",
          "text": [
            "a=5\n",
            "b=5\n",
            "c=5\n",
            "The area of triangle 10.825317547305483\n"
          ],
          "name": "stdout"
        }
      ]
    },
    {
      "cell_type": "markdown",
      "metadata": {
        "id": "5rcdJdMrAnEc"
      },
      "source": [
        "1.2 Write a function filter_long_words() that takes a list of words and an integer n and returns\n",
        "the list of words that are longer than n."
      ]
    },
    {
      "cell_type": "code",
      "metadata": {
        "colab": {
          "base_uri": "https://localhost:8080/"
        },
        "id": "GImOy5OqAs_y",
        "outputId": "01b572d3-5fab-4f50-945a-a733c10e7010"
      },
      "source": [
        "def filter_long_words(inputlist,integer):\n",
        "  list_of_words=[]\n",
        "  for i in range(len(inputlist)):\n",
        "    if len(inputlist[i])>integer:\n",
        "      list_of_words.append(inputlist[i])\n",
        "  return list_of_words    \n",
        "\n",
        "lst=['abc','ffhgnvjv','defg','psjyfbn','dfdyrhgivk','ghgju']\n",
        "i=5\n",
        "\n",
        "filter_long_words(lst,i)"
      ],
      "execution_count": 9,
      "outputs": [
        {
          "output_type": "execute_result",
          "data": {
            "text/plain": [
              "['ffhgnvjv', 'psjyfbn', 'dfdyrhgivk']"
            ]
          },
          "metadata": {
            "tags": []
          },
          "execution_count": 9
        }
      ]
    },
    {
      "cell_type": "markdown",
      "metadata": {
        "id": "DjhbOefOTZzu"
      },
      "source": [
        "2.1 Write a Python program using function concept that maps list of words into a list of integers\n",
        "representing the lengths of the corresponding words.\n",
        "Hint: If a list [ ab,cde,erty] is passed on to the python function output should come as [2,3,4]\n",
        "Here 2,3 and 4 are the lengths of the words in the list."
      ]
    },
    {
      "cell_type": "code",
      "metadata": {
        "colab": {
          "base_uri": "https://localhost:8080/"
        },
        "id": "OJT5asSoAtC7",
        "outputId": "c495d8fa-f2da-4771-b3f6-0e6514bdcddc"
      },
      "source": [
        "def map_list(words):\n",
        "  return [len(word) for word in words]\n",
        "\n",
        "words=['fdgfdbn','dgreyfbn','bfherfbcn','abc']\n",
        "map_list(words)"
      ],
      "execution_count": 13,
      "outputs": [
        {
          "output_type": "execute_result",
          "data": {
            "text/plain": [
              "[7, 8, 9, 3]"
            ]
          },
          "metadata": {
            "tags": []
          },
          "execution_count": 13
        }
      ]
    },
    {
      "cell_type": "markdown",
      "metadata": {
        "id": "gmWM9Up-T2xM"
      },
      "source": [
        "2.2 Write a Python function which takes a character (i.e. a string of length 1) and returns True if\n",
        "it is a vowel, False otherwise."
      ]
    },
    {
      "cell_type": "code",
      "metadata": {
        "colab": {
          "base_uri": "https://localhost:8080/"
        },
        "id": "jawFo5DIAtGH",
        "outputId": "d5a3b66d-cefe-4088-a051-656091bbfc16"
      },
      "source": [
        "def is_vowel(alphabet):\n",
        "  if alphabet.lower() in 'aeiou':\n",
        "    return True\n",
        "  if alphabet.upper() in 'AEIOU':\n",
        "    return True\n",
        "  else:\n",
        "    return False\n",
        "\n",
        "output=is_vowel('c')\n",
        "print('vowel or not?: {}'.format(output))\n",
        "output1=is_vowel('u')\n",
        "print('vowel or not?: {}'.format(output1))"
      ],
      "execution_count": 17,
      "outputs": [
        {
          "output_type": "stream",
          "text": [
            "vowel or not?: False\n",
            "vowel or not?: True\n"
          ],
          "name": "stdout"
        }
      ]
    }
  ]
}