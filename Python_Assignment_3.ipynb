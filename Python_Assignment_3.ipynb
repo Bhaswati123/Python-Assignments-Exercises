{
  "nbformat": 4,
  "nbformat_minor": 0,
  "metadata": {
    "colab": {
      "name": "Python Assignment 3.ipynb",
      "provenance": [],
      "collapsed_sections": []
    },
    "kernelspec": {
      "name": "python3",
      "display_name": "Python 3"
    },
    "language_info": {
      "name": "python"
    }
  },
  "cells": [
    {
      "cell_type": "markdown",
      "metadata": {
        "id": "859QyHcMAcdN"
      },
      "source": [
        "1. 1.1 Write a Python Program to implement your own myreduce() function which works exactly\n",
        "like Python's built-in function reduce()"
      ]
    },
    {
      "cell_type": "code",
      "metadata": {
        "colab": {
          "base_uri": "https://localhost:8080/"
        },
        "id": "lY9kCvLwAVrS",
        "outputId": "96c11b75-d66f-4373-a2f6-b9bb247c5d00"
      },
      "source": [
        "#Built In reduce() function\n",
        "\n",
        "print('Input')\n",
        "n=int(input('Enter a number:'))\n",
        "num_list=list(range(1,n+1))\n",
        "from functools import reduce \n",
        "sum=reduce(lambda x,y:x+y,num_list)\n",
        "print('Output')\n",
        "print('List of natural numbers',num_list)\n",
        "print('Sum of list of elements',sum)"
      ],
      "execution_count": null,
      "outputs": [
        {
          "output_type": "stream",
          "text": [
            "Input\n",
            "Enter a number:20\n",
            "Output\n",
            "List of natural numbers [1, 2, 3, 4, 5, 6, 7, 8, 9, 10, 11, 12, 13, 14, 15, 16, 17, 18, 19, 20]\n",
            "Sum of list of elements 210\n"
          ],
          "name": "stdout"
        }
      ]
    },
    {
      "cell_type": "markdown",
      "metadata": {
        "id": "r9JTVdSTWPp_"
      },
      "source": [
        "MyReduce()"
      ]
    },
    {
      "cell_type": "code",
      "metadata": {
        "colab": {
          "base_uri": "https://localhost:8080/"
        },
        "id": "VlC0iX3p7mPR",
        "outputId": "242d6165-5ebf-44bd-e99d-3ebbc47ba1be"
      },
      "source": [
        "def myreduce(n):\n",
        "  print('Input')\n",
        "  n=int(input('Enter a number: '))\n",
        "  num_list=list(range(1,n+1))\n",
        "  sum_of_elements=0\n",
        "  for i in num_list:\n",
        "    sum_of_elements=sum_of_elements+i\n",
        "  return num_list,sum_of_elements\n",
        "\n",
        "output=myreduce(n)\n",
        "print('Output')\n",
        "print('List of natural numbers: ',output[0])\n",
        "print('Sum of list of elements: ',output[1])\n"
      ],
      "execution_count": null,
      "outputs": [
        {
          "output_type": "stream",
          "text": [
            "Input\n",
            "Enter a number: 20\n",
            "Output\n",
            "List of natural numbers:  [1, 2, 3, 4, 5, 6, 7, 8, 9, 10, 11, 12, 13, 14, 15, 16, 17, 18, 19, 20]\n",
            "Sum of list of elements:  210\n"
          ],
          "name": "stdout"
        }
      ]
    },
    {
      "cell_type": "markdown",
      "metadata": {
        "id": "NceFw-muWBi3"
      },
      "source": [
        "1.2 Write a Python program to implement your own myfilter() function which works exactly\n",
        "like Python's built-in function filter()"
      ]
    },
    {
      "cell_type": "code",
      "metadata": {
        "colab": {
          "base_uri": "https://localhost:8080/"
        },
        "id": "DMKZTSXx7mRg",
        "outputId": "37bf57cc-57b6-494f-a024-6ac4679838c3"
      },
      "source": [
        "#Built in Filter() function\n",
        "\n",
        "print('Input')\n",
        "n=int(input('Enter a number: '))\n",
        "num_list=list(range(1,n+1))\n",
        "even_list=[]\n",
        "odd_list=[]\n",
        "even_list=list(filter(lambda i:i%2==0,filter(lambda i:i%5==0,num_list)))\n",
        "odd_list=list(filter(lambda i:i%2!=0,filter(lambda i:i%5==0,num_list)))\n",
        "\n",
        "print('Output')\n",
        "print('List of even numbers:',even_list)\n",
        "print('List of odd numbers:',odd_list)\n"
      ],
      "execution_count": null,
      "outputs": [
        {
          "output_type": "stream",
          "text": [
            "Input\n",
            "Enter a number: 30\n",
            "Output\n",
            "List of even numbers: [10, 20, 30]\n",
            "List of odd numbers: [5, 15, 25]\n"
          ],
          "name": "stdout"
        }
      ]
    },
    {
      "cell_type": "markdown",
      "metadata": {
        "id": "up40tQQEWT0R"
      },
      "source": [
        "MyFilter()"
      ]
    },
    {
      "cell_type": "code",
      "metadata": {
        "colab": {
          "base_uri": "https://localhost:8080/"
        },
        "id": "p-M6Kzfe7mUm",
        "outputId": "09fe6dd0-9019-42d9-faa1-7deff6573bc8"
      },
      "source": [
        "print('Input')\n",
        "n=int(input('Enter a number:' ))\n",
        "num_list=list(range(1,n+1))\n",
        "def myfilter(num_list):\n",
        "  even_list=[]\n",
        "  odd_list=[]\n",
        "  for i in num_list:\n",
        "    if i%5==0:\n",
        "      if i%2==0:\n",
        "        even_list.append(i)\n",
        "      else:\n",
        "        odd_list.append(i)\n",
        "  return even_list,odd_list\n",
        "\n",
        "output=myfilter(num_list)\n",
        "\n",
        "print('Output')\n",
        "print('List of even numbers:',output[0])\n",
        "print('List of odd numbers:',output[1])\n"
      ],
      "execution_count": null,
      "outputs": [
        {
          "output_type": "stream",
          "text": [
            "Input\n",
            "Enter a number:30\n",
            "Output\n",
            "List of even numbers: [10, 20, 30]\n",
            "List of odd numbers: [5, 15, 25]\n"
          ],
          "name": "stdout"
        }
      ]
    },
    {
      "cell_type": "markdown",
      "metadata": {
        "id": "XCx_2PmXWdur"
      },
      "source": [
        "2.Write List comprehensions to produce the following Lists\n"
      ]
    },
    {
      "cell_type": "markdown",
      "metadata": {
        "id": "z0TFBP0VWnPv"
      },
      "source": [
        "2.1. **['x', 'xx', 'xxx', 'xxxx', 'y', 'yy', 'yyy', 'yyyy', 'z', 'zz', 'zzz', 'zzzz']**"
      ]
    },
    {
      "cell_type": "code",
      "metadata": {
        "colab": {
          "base_uri": "https://localhost:8080/"
        },
        "id": "Kc05HfpnXEYV",
        "outputId": "a494d040-1e2c-4f03-8544-5273a12ba31b"
      },
      "source": [
        "word=list('xyz')\n",
        "[i*j for i in word for j in range(1,5)]"
      ],
      "execution_count": null,
      "outputs": [
        {
          "output_type": "execute_result",
          "data": {
            "text/plain": [
              "['x', 'xx', 'xxx', 'xxxx', 'y', 'yy', 'yyy', 'yyyy', 'z', 'zz', 'zzz', 'zzzz']"
            ]
          },
          "metadata": {
            "tags": []
          },
          "execution_count": 24
        }
      ]
    },
    {
      "cell_type": "markdown",
      "metadata": {
        "id": "gfqPH5z-XCrJ"
      },
      "source": [
        "2.2 **['x', 'y', 'z', 'xx', 'yy', 'zz', 'xxx', 'yyy', 'zzz', 'xxxx', 'yyyy', 'zzzz']**"
      ]
    },
    {
      "cell_type": "code",
      "metadata": {
        "colab": {
          "base_uri": "https://localhost:8080/"
        },
        "id": "GILHWH7bX5Rj",
        "outputId": "3e430fd5-67c7-4293-dcf6-1420e1f674f6"
      },
      "source": [
        "word=list('xyz')\n",
        "[j*i for j in range(1,5) for i in word]"
      ],
      "execution_count": null,
      "outputs": [
        {
          "output_type": "execute_result",
          "data": {
            "text/plain": [
              "['x', 'y', 'z', 'xx', 'yy', 'zz', 'xxx', 'yyy', 'zzz', 'xxxx', 'yyyy', 'zzzz']"
            ]
          },
          "metadata": {
            "tags": []
          },
          "execution_count": 25
        }
      ]
    },
    {
      "cell_type": "markdown",
      "metadata": {
        "id": "prwXBDdwYMvu"
      },
      "source": [
        "2.3 **[[2], [3], [4], [3], [4], [5], [4], [5], [6]]**"
      ]
    },
    {
      "cell_type": "code",
      "metadata": {
        "colab": {
          "base_uri": "https://localhost:8080/"
        },
        "id": "938BPkzCYNH3",
        "outputId": "83f1049f-1192-4921-da5c-8f2feb93ad0a"
      },
      "source": [
        "number=[2,3,4]\n",
        "[[i+j] for i in range(0,3) for j in number]"
      ],
      "execution_count": null,
      "outputs": [
        {
          "output_type": "execute_result",
          "data": {
            "text/plain": [
              "[[2], [3], [4], [3], [4], [5], [4], [5], [6]]"
            ]
          },
          "metadata": {
            "tags": []
          },
          "execution_count": 27
        }
      ]
    },
    {
      "cell_type": "markdown",
      "metadata": {
        "id": "DkP6M3OsYNXC"
      },
      "source": [
        "**`2.4. [[2, 3, 4, 5], [3, 4, 5, 6],[4, 5, 6, 7], [5, 6, 7, 8]] `**"
      ]
    },
    {
      "cell_type": "code",
      "metadata": {
        "colab": {
          "base_uri": "https://localhost:8080/"
        },
        "id": "q_OZltdWYNlV",
        "outputId": "53565733-0d3e-4875-e9e0-7f81a78834af"
      },
      "source": [
        "number=[2,3,4,5]\n",
        "[[i+j for i in range(0,4)] for j in number]"
      ],
      "execution_count": null,
      "outputs": [
        {
          "output_type": "execute_result",
          "data": {
            "text/plain": [
              "[[2, 3, 4, 5], [3, 4, 5, 6], [4, 5, 6, 7], [5, 6, 7, 8]]"
            ]
          },
          "metadata": {
            "tags": []
          },
          "execution_count": 28
        }
      ]
    },
    {
      "cell_type": "markdown",
      "metadata": {
        "id": "t_JYMkvJYN2Q"
      },
      "source": [
        "**2.5. [(1, 1), (2, 1), (3, 1), (1, 2), (2, 2), (3, 2), (1, 3), (2, 3), (3, 3)]**"
      ]
    },
    {
      "cell_type": "code",
      "metadata": {
        "colab": {
          "base_uri": "https://localhost:8080/"
        },
        "id": "ZRvqIuIAYOGF",
        "outputId": "402f2122-5850-4436-e917-b65619a2d902"
      },
      "source": [
        "number=[1,2,3]\n",
        "\n",
        "[(j,i) for i in range(1,4) for j in number]"
      ],
      "execution_count": null,
      "outputs": [
        {
          "output_type": "execute_result",
          "data": {
            "text/plain": [
              "[(1, 1), (2, 1), (3, 1), (1, 2), (2, 2), (3, 2), (1, 3), (2, 3), (3, 3)]"
            ]
          },
          "metadata": {
            "tags": []
          },
          "execution_count": 31
        }
      ]
    }
  ]
}