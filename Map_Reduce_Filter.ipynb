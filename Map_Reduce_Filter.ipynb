{
  "nbformat": 4,
  "nbformat_minor": 0,
  "metadata": {
    "colab": {
      "name": "Map\\Reduce\\Filter.ipynb",
      "provenance": [],
      "collapsed_sections": []
    },
    "kernelspec": {
      "name": "python3",
      "display_name": "Python 3"
    },
    "language_info": {
      "name": "python"
    }
  },
  "cells": [
    {
      "cell_type": "markdown",
      "metadata": {
        "id": "a8GDNuOYFc1M"
      },
      "source": [
        "**Map Function**\n",
        "\n",
        "**syntax:** map(function,sequence)\n",
        "\n",
        "It maps the function with the dataset.\n",
        "A map has a function and a sequence. map() applies the function to all the elements of the sequence.It returns a new list with the elements changed by the function. "
      ]
    },
    {
      "cell_type": "code",
      "metadata": {
        "id": "qVmCF0diAgfW"
      },
      "source": [
        "#example\n",
        "\n",
        "def Fahrenheit(T):\n",
        "  return ((float(9)/5)*T+32)\n",
        "def Celsius(T):\n",
        "  return ((float(5)/9)*(T-32))  \n",
        "\n",
        "t=[10,22.5,37,100]  "
      ],
      "execution_count": 1,
      "outputs": []
    },
    {
      "cell_type": "code",
      "metadata": {
        "colab": {
          "base_uri": "https://localhost:8080/"
        },
        "id": "YlE1zOssGShw",
        "outputId": "3c4d87c7-2d7d-48bb-93e7-ffc4a750f132"
      },
      "source": [
        "a=[]\n",
        "for i in t:\n",
        "  a.append(Fahrenheit(i))\n",
        "a"
      ],
      "execution_count": 2,
      "outputs": [
        {
          "output_type": "execute_result",
          "data": {
            "text/plain": [
              "[50.0, 72.5, 98.60000000000001, 212.0]"
            ]
          },
          "metadata": {
            "tags": []
          },
          "execution_count": 2
        }
      ]
    },
    {
      "cell_type": "code",
      "metadata": {
        "colab": {
          "base_uri": "https://localhost:8080/"
        },
        "id": "Fjjag6EbGxhX",
        "outputId": "45fcd22e-58df-43dd-edcf-9f20b427e167"
      },
      "source": [
        "#using map function\n",
        "\n",
        "a=list(map(Fahrenheit,t))\n",
        "a"
      ],
      "execution_count": 3,
      "outputs": [
        {
          "output_type": "execute_result",
          "data": {
            "text/plain": [
              "[50.0, 72.5, 98.60000000000001, 212.0]"
            ]
          },
          "metadata": {
            "tags": []
          },
          "execution_count": 3
        }
      ]
    },
    {
      "cell_type": "code",
      "metadata": {
        "id": "mA3fFzuMG5wz"
      },
      "source": [
        "#example 2\n",
        "def convert(l):\n",
        "  return l.upper()\n",
        "\n",
        "l=['abc','xyz','pqr']\n"
      ],
      "execution_count": 4,
      "outputs": []
    },
    {
      "cell_type": "code",
      "metadata": {
        "colab": {
          "base_uri": "https://localhost:8080/"
        },
        "id": "N3jPhyGWHPX5",
        "outputId": "c3954027-10f2-4048-9df7-a138d5b46c5b"
      },
      "source": [
        "a=[]\n",
        "for i in l:\n",
        "  a.append(convert(i))  \n",
        "a  "
      ],
      "execution_count": 5,
      "outputs": [
        {
          "output_type": "execute_result",
          "data": {
            "text/plain": [
              "['ABC', 'XYZ', 'PQR']"
            ]
          },
          "metadata": {
            "tags": []
          },
          "execution_count": 5
        }
      ]
    },
    {
      "cell_type": "code",
      "metadata": {
        "colab": {
          "base_uri": "https://localhost:8080/"
        },
        "id": "gUMZiKwTHPae",
        "outputId": "0f638a5e-024b-4758-be0f-dec071afda92"
      },
      "source": [
        "a=list(map(convert,l))\n",
        "a"
      ],
      "execution_count": 6,
      "outputs": [
        {
          "output_type": "execute_result",
          "data": {
            "text/plain": [
              "['ABC', 'XYZ', 'PQR']"
            ]
          },
          "metadata": {
            "tags": []
          },
          "execution_count": 6
        }
      ]
    },
    {
      "cell_type": "code",
      "metadata": {
        "colab": {
          "base_uri": "https://localhost:8080/"
        },
        "id": "QulzkefIHPd5",
        "outputId": "109e35d5-5acb-4c1d-d20a-1e5420a3ca4f"
      },
      "source": [
        "#using lambda function\n",
        "list(map(lambda x:x.upper(),l))   #function=lambda x:x.upper()"
      ],
      "execution_count": 28,
      "outputs": [
        {
          "output_type": "execute_result",
          "data": {
            "text/plain": [
              "['ABC', 'XYZ', 'PQR']"
            ]
          },
          "metadata": {
            "tags": []
          },
          "execution_count": 28
        }
      ]
    },
    {
      "cell_type": "code",
      "metadata": {
        "colab": {
          "base_uri": "https://localhost:8080/"
        },
        "id": "4xBAnvopHzcm",
        "outputId": "a0d35aa1-179d-40bd-88e0-68b532d1a3a1"
      },
      "source": [
        "#example2\n",
        "\n",
        "a=[1,2,3,4]\n",
        "b=[5,6,7,8]\n",
        "\n",
        "list(map(lambda a,b:a+b,a,b))"
      ],
      "execution_count": 29,
      "outputs": [
        {
          "output_type": "execute_result",
          "data": {
            "text/plain": [
              "[6, 8, 10, 12]"
            ]
          },
          "metadata": {
            "tags": []
          },
          "execution_count": 29
        }
      ]
    },
    {
      "cell_type": "code",
      "metadata": {
        "colab": {
          "base_uri": "https://localhost:8080/"
        },
        "id": "wK--gCSmcFpb",
        "outputId": "e35c8349-ea05-4585-adf3-f8d0023911c7"
      },
      "source": [
        "a=[1,2,3,4]\n",
        "b=[5,6,7,8]\n",
        "c=[9,10,11,12]\n",
        "\n",
        "list(map(lambda a,b,c:a+b+c,a,b,c))"
      ],
      "execution_count": 30,
      "outputs": [
        {
          "output_type": "execute_result",
          "data": {
            "text/plain": [
              "[15, 18, 21, 24]"
            ]
          },
          "metadata": {
            "tags": []
          },
          "execution_count": 30
        }
      ]
    },
    {
      "cell_type": "code",
      "metadata": {
        "id": "TILj4u0bcFsv"
      },
      "source": [
        "a=iter(range(5))"
      ],
      "execution_count": 31,
      "outputs": []
    },
    {
      "cell_type": "code",
      "metadata": {
        "colab": {
          "base_uri": "https://localhost:8080/"
        },
        "id": "PERH7GVVHzgE",
        "outputId": "c5a29369-4a67-460a-957a-2ed5b138e8f3"
      },
      "source": [
        "print(next(a))"
      ],
      "execution_count": 33,
      "outputs": [
        {
          "output_type": "stream",
          "text": [
            "1\n"
          ],
          "name": "stdout"
        }
      ]
    },
    {
      "cell_type": "code",
      "metadata": {
        "id": "-J4AMCKexqVu"
      },
      "source": [
        "def add(m,n):\n",
        "  return m+n"
      ],
      "execution_count": 34,
      "outputs": []
    },
    {
      "cell_type": "code",
      "metadata": {
        "colab": {
          "base_uri": "https://localhost:8080/"
        },
        "id": "DKmeX39Oiie5",
        "outputId": "82ec9f23-194a-433e-ac13-6a0ed2d28a10"
      },
      "source": [
        "a=[1,2,3,4]\n",
        "b=[5,6,7,8]\n",
        "c=[9,10,11,12]\n",
        "\n",
        "list(map(add,a,b))"
      ],
      "execution_count": 37,
      "outputs": [
        {
          "output_type": "execute_result",
          "data": {
            "text/plain": [
              "[6, 8, 10, 12]"
            ]
          },
          "metadata": {
            "tags": []
          },
          "execution_count": 37
        }
      ]
    },
    {
      "cell_type": "markdown",
      "metadata": {
        "id": "-8z8HT0HtJpv"
      },
      "source": [
        "**Reduce Function**\n",
        "\n",
        "**syntax:** reduce(function,sequence)\n",
        "\n",
        "It applies the function to the sequence and returns a single value.\n"
      ]
    },
    {
      "cell_type": "code",
      "metadata": {
        "colab": {
          "base_uri": "https://localhost:8080/"
        },
        "id": "5wMtIHsNiihI",
        "outputId": "646318fb-0da1-49aa-a4df-e09d184c0748"
      },
      "source": [
        "from functools import reduce\n",
        "lst=[49,564,267,56,8]\n",
        "reduce(lambda x,y:x+y,lst)"
      ],
      "execution_count": 39,
      "outputs": [
        {
          "output_type": "execute_result",
          "data": {
            "text/plain": [
              "944"
            ]
          },
          "metadata": {
            "tags": []
          },
          "execution_count": 39
        }
      ]
    },
    {
      "cell_type": "code",
      "metadata": {
        "colab": {
          "base_uri": "https://localhost:8080/"
        },
        "id": "FeRem2Zeiijy",
        "outputId": "683b439c-2048-4218-dd7a-c0b5b2722ab4"
      },
      "source": [
        "#myreduce function\n",
        "\n",
        "print('Input')\n",
        "n=int(input('Enter a number:'))\n",
        "num_list=list(range(1,n+1))\n",
        "def myreduce(n):\n",
        "  sum_of_elements=0\n",
        "  for i in num_list:\n",
        "    sum_of_elements=sum_of_elements+i\n",
        "  return sum_of_elements \n",
        "\n",
        "sum_of_elements=myreduce(n)\n",
        "\n",
        "print('Output')\n",
        "print('List of numbers:',num_list)\n",
        "print('Sum of list of numbers:',sum_of_elements)  "
      ],
      "execution_count": 52,
      "outputs": [
        {
          "output_type": "stream",
          "text": [
            "Input\n",
            "Enter a number:20\n",
            "Output\n",
            "List of numbers: [1, 2, 3, 4, 5, 6, 7, 8, 9, 10, 11, 12, 13, 14, 15, 16, 17, 18, 19, 20]\n",
            "Sum of list of numbers: 210\n"
          ],
          "name": "stdout"
        }
      ]
    },
    {
      "cell_type": "code",
      "metadata": {
        "colab": {
          "base_uri": "https://localhost:8080/"
        },
        "id": "gH4J4evWiimM",
        "outputId": "a7f74a8d-d32b-44b7-d637-db3adf44f7c7"
      },
      "source": [
        "reduce(lambda x,y:x+y,num_list)"
      ],
      "execution_count": 54,
      "outputs": [
        {
          "output_type": "execute_result",
          "data": {
            "text/plain": [
              "210"
            ]
          },
          "metadata": {
            "tags": []
          },
          "execution_count": 54
        }
      ]
    },
    {
      "cell_type": "code",
      "metadata": {
        "colab": {
          "base_uri": "https://localhost:8080/"
        },
        "id": "sqP5imHa2MP5",
        "outputId": "ca0f27ba-5236-4d04-9e0f-e383c07e6736"
      },
      "source": [
        "#find the maximum of a sequence\n",
        "lst=[47,11,42,13,78]\n",
        "max_find=lambda x,y:x if x>y else y\n",
        "max_find"
      ],
      "execution_count": 59,
      "outputs": [
        {
          "output_type": "execute_result",
          "data": {
            "text/plain": [
              "<function __main__.<lambda>>"
            ]
          },
          "metadata": {
            "tags": []
          },
          "execution_count": 59
        }
      ]
    },
    {
      "cell_type": "code",
      "metadata": {
        "colab": {
          "base_uri": "https://localhost:8080/"
        },
        "id": "MMeZGH-m4J3f",
        "outputId": "58fa263d-13cc-42c8-a559-7a93680450de"
      },
      "source": [
        "reduce(max_find,lst)"
      ],
      "execution_count": 60,
      "outputs": [
        {
          "output_type": "execute_result",
          "data": {
            "text/plain": [
              "78"
            ]
          },
          "metadata": {
            "tags": []
          },
          "execution_count": 60
        }
      ]
    },
    {
      "cell_type": "code",
      "metadata": {
        "colab": {
          "base_uri": "https://localhost:8080/"
        },
        "id": "KRKK1_fK2oIZ",
        "outputId": "bfcf4614-2193-44b7-c3f5-2fa468305b6b"
      },
      "source": [
        "min_find=reduce(lambda a,b:a if a<b else b,lst)\n",
        "min_find"
      ],
      "execution_count": 58,
      "outputs": [
        {
          "output_type": "execute_result",
          "data": {
            "text/plain": [
              "11"
            ]
          },
          "metadata": {
            "tags": []
          },
          "execution_count": 58
        }
      ]
    },
    {
      "cell_type": "markdown",
      "metadata": {
        "id": "73Umislj2B41"
      },
      "source": [
        "**Filter Function**\n",
        "\n",
        "**syntax:** filter(function,sequence)\n",
        "\n",
        "\n",
        "filter a list of numbers.\n"
      ]
    },
    {
      "cell_type": "code",
      "metadata": {
        "id": "bzPuCumeiipe"
      },
      "source": [
        "def is_even(n):\n",
        "    if n%2==0:\n",
        "      return True\n",
        "    else:\n",
        "      return False\n"
      ],
      "execution_count": 69,
      "outputs": []
    },
    {
      "cell_type": "code",
      "metadata": {
        "colab": {
          "base_uri": "https://localhost:8080/"
        },
        "id": "rZOar4-Piish",
        "outputId": "4dab3c1f-736d-46a0-e33f-d95dab607b9f"
      },
      "source": [
        "lst=range(20)\n",
        "list(filter(is_even,lst))"
      ],
      "execution_count": 70,
      "outputs": [
        {
          "output_type": "execute_result",
          "data": {
            "text/plain": [
              "[0, 2, 4, 6, 8, 10, 12, 14, 16, 18]"
            ]
          },
          "metadata": {
            "tags": []
          },
          "execution_count": 70
        }
      ]
    },
    {
      "cell_type": "code",
      "metadata": {
        "colab": {
          "base_uri": "https://localhost:8080/"
        },
        "id": "MloeTcEAiiuT",
        "outputId": "af7281e9-4b9f-41bc-c800-17b49c63f11e"
      },
      "source": [
        "list(filter(lambda x:x%2==0,lst))"
      ],
      "execution_count": 71,
      "outputs": [
        {
          "output_type": "execute_result",
          "data": {
            "text/plain": [
              "[0, 2, 4, 6, 8, 10, 12, 14, 16, 18]"
            ]
          },
          "metadata": {
            "tags": []
          },
          "execution_count": 71
        }
      ]
    },
    {
      "cell_type": "code",
      "metadata": {
        "colab": {
          "base_uri": "https://localhost:8080/"
        },
        "id": "dj1YBN6CiixK",
        "outputId": "09f52375-52ed-45c8-b3d1-197c0a6df825"
      },
      "source": [
        "def myfilter(n):\n",
        "  print('Input')\n",
        "  n=int(input('Enter a number:'))\n",
        "  num_list=list(range(1,n+1))\n",
        "  even_list=[]\n",
        "  odd_list=[]\n",
        "  for i in num_list:\n",
        "    if i%5==0:\n",
        "      if i%2==0:\n",
        "        even_list.append(i)\n",
        "      else:\n",
        "        odd_list.append(i)\n",
        "        \n",
        "  return even_list,odd_list   \n",
        "\n",
        "even_list,odd_list=myfilter(n) \n",
        "\n",
        "print('Output')\n",
        "print('List of even numbers:',even_list)\n",
        "print('List of odd numbers:',odd_list)"
      ],
      "execution_count": 90,
      "outputs": [
        {
          "output_type": "stream",
          "text": [
            "Input\n",
            "Enter a number:50\n",
            "Output\n",
            "List of even numbers: [10, 20, 30, 40, 50]\n",
            "List of odd numbers: [5, 15, 25, 35, 45]\n"
          ],
          "name": "stdout"
        }
      ]
    },
    {
      "cell_type": "code",
      "metadata": {
        "colab": {
          "base_uri": "https://localhost:8080/"
        },
        "id": "3NgHJmfk_YPm",
        "outputId": "c085dea8-1e0e-4556-a2c8-4898523c023e"
      },
      "source": [
        "#using in built filter function\n",
        "\n",
        "n=int(input('Enter a number:'))\n",
        "num_list=list(range(1,n+1))\n",
        "\n",
        "even_list=list(filter(lambda x:x%2==0,list(filter(lambda x:x%5==0,num_list))))\n",
        "odd_list=list(filter(lambda x:x%2!=0,list(filter(lambda x:x%5==0,num_list))))\n",
        "\n",
        "print(even_list)\n",
        "print(odd_list)"
      ],
      "execution_count": 105,
      "outputs": [
        {
          "output_type": "stream",
          "text": [
            "Enter a number:50\n",
            "[10, 20, 30, 40, 50]\n",
            "[5, 15, 25, 35, 45]\n"
          ],
          "name": "stdout"
        }
      ]
    },
    {
      "cell_type": "code",
      "metadata": {
        "id": "m2S2SqnGMGCZ"
      },
      "source": [
        ""
      ],
      "execution_count": null,
      "outputs": []
    }
  ]
}