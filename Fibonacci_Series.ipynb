{
  "nbformat": 4,
  "nbformat_minor": 0,
  "metadata": {
    "colab": {
      "name": "Fibonacci Series.ipynb",
      "provenance": [],
      "collapsed_sections": []
    },
    "kernelspec": {
      "name": "python3",
      "display_name": "Python 3"
    },
    "language_info": {
      "name": "python"
    }
  },
  "cells": [
    {
      "cell_type": "markdown",
      "metadata": {
        "id": "z99kQ3LkTNAD"
      },
      "source": [
        "**Fibonacci Series Function**"
      ]
    },
    {
      "cell_type": "code",
      "metadata": {
        "id": "03La29PyTMIB"
      },
      "source": [
        "def fibo(n):\n",
        "  a=1\n",
        "  b=1\n",
        "  for i in range(n):\n",
        "    yield a\n",
        "    a,b=b,a+b"
      ],
      "execution_count": 4,
      "outputs": []
    },
    {
      "cell_type": "code",
      "metadata": {
        "colab": {
          "base_uri": "https://localhost:8080/"
        },
        "id": "WVIxdAroTmC4",
        "outputId": "9d8b0a5b-e9d5-40e1-f393-8b46c4805860"
      },
      "source": [
        "for i in fibo(10):\n",
        "  print(i)"
      ],
      "execution_count": 3,
      "outputs": [
        {
          "output_type": "stream",
          "text": [
            "1\n",
            "1\n",
            "2\n",
            "3\n",
            "5\n",
            "8\n",
            "13\n",
            "21\n",
            "34\n",
            "55\n"
          ],
          "name": "stdout"
        }
      ]
    },
    {
      "cell_type": "code",
      "metadata": {
        "colab": {
          "base_uri": "https://localhost:8080/"
        },
        "id": "86GJEBbwTs0Z",
        "outputId": "7f546ff4-906a-48b4-a8e2-4636f76ad6fc"
      },
      "source": [
        "for i in fibo(10):\n",
        "  print(i,end=\",\")"
      ],
      "execution_count": 6,
      "outputs": [
        {
          "output_type": "stream",
          "text": [
            "1,1,2,3,5,8,13,21,34,55,"
          ],
          "name": "stdout"
        }
      ]
    },
    {
      "cell_type": "code",
      "metadata": {
        "colab": {
          "base_uri": "https://localhost:8080/"
        },
        "id": "JqIX2ExyTxvX",
        "outputId": "1d2d0e8a-6ff0-4b89-92d1-7fcb90920e51"
      },
      "source": [
        "#Right triangle\n",
        "\n",
        "def fibo1(n):\n",
        "  a=1\n",
        "  b=1\n",
        "  output=[]\n",
        "  for i in range(n):\n",
        "    output.append(a)\n",
        "    a,b=b,a+b\n",
        "    print(output)\n",
        "fibo1(10)    "
      ],
      "execution_count": 9,
      "outputs": [
        {
          "output_type": "stream",
          "text": [
            "[1]\n",
            "[1, 1]\n",
            "[1, 1, 2]\n",
            "[1, 1, 2, 3]\n",
            "[1, 1, 2, 3, 5]\n",
            "[1, 1, 2, 3, 5, 8]\n",
            "[1, 1, 2, 3, 5, 8, 13]\n",
            "[1, 1, 2, 3, 5, 8, 13, 21]\n",
            "[1, 1, 2, 3, 5, 8, 13, 21, 34]\n",
            "[1, 1, 2, 3, 5, 8, 13, 21, 34, 55]\n"
          ],
          "name": "stdout"
        }
      ]
    }
  ]
}