{
  "nbformat": 4,
  "nbformat_minor": 0,
  "metadata": {
    "colab": {
      "name": "python assignment 2.ipynb",
      "provenance": [],
      "collapsed_sections": []
    },
    "kernelspec": {
      "name": "python3",
      "display_name": "Python 3"
    },
    "language_info": {
      "name": "python"
    }
  },
  "cells": [
    {
      "cell_type": "markdown",
      "metadata": {
        "id": "V1DH2dtXxrn8"
      },
      "source": [
        "1. Create the below pattern using nested for loop in Python.\n"
      ]
    },
    {
      "cell_type": "code",
      "metadata": {
        "id": "O_OOUHT-xfgg"
      },
      "source": [
        "def pattern(n):\n",
        "  for i in range(0,n):\n",
        "    for j in range(0,i+1):\n",
        "      print(\"* \",end=\"\")\n",
        "    print(\"\\r\")  \n",
        "  for i in range(n,0,-1):\n",
        "    for j in range(0,i-1):\n",
        "      print(\"* \",end=\"\")\n",
        "    print('\\r')  "
      ],
      "execution_count": null,
      "outputs": []
    },
    {
      "cell_type": "code",
      "metadata": {
        "colab": {
          "base_uri": "https://localhost:8080/"
        },
        "id": "1RkCVx-yyUfm",
        "outputId": "e2fe273c-bc21-47d5-d641-add56a683f11"
      },
      "source": [
        "pattern(5)"
      ],
      "execution_count": null,
      "outputs": [
        {
          "output_type": "stream",
          "text": [
            "* \r\n",
            "* * \r\n",
            "* * * \r\n",
            "* * * * \r\n",
            "* * * * * \r\n",
            "* * * * \r\n",
            "* * * \r\n",
            "* * \r\n",
            "* \r\n",
            "\r\n"
          ],
          "name": "stdout"
        }
      ]
    },
    {
      "cell_type": "markdown",
      "metadata": {
        "id": "MeEFPMwnyyux"
      },
      "source": [
        "2. Write a Python program to reverse a word after accepting the input from the user."
      ]
    },
    {
      "cell_type": "code",
      "metadata": {
        "colab": {
          "base_uri": "https://localhost:8080/"
        },
        "id": "C1knpWi-yxXV",
        "outputId": "10514647-e3aa-44d7-cbe7-8f71ab4e08ef"
      },
      "source": [
        "s=input('Enter a word: ')\n",
        "\n",
        "def reverse(s):\n",
        "  s=s[::-1]\n",
        "  return s\n",
        "\n",
        "reverse(s)\n",
        "print('The reverse word is: ',reverse(s))  "
      ],
      "execution_count": null,
      "outputs": [
        {
          "output_type": "stream",
          "text": [
            "Enter a word: ineuron\n",
            "The reverse word is:  norueni\n"
          ],
          "name": "stdout"
        }
      ]
    },
    {
      "cell_type": "code",
      "metadata": {
        "id": "b2h0WEjLyxa9"
      },
      "source": [
        ""
      ],
      "execution_count": null,
      "outputs": []
    }
  ]
}